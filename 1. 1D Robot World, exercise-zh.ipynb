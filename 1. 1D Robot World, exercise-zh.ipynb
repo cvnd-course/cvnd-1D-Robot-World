{
 "cells": [
  {
   "cell_type": "markdown",
   "metadata": {},
   "source": [
    "# 机器人世界\n",
    "\n",
    "与人类一样，机器人通过它的“感官”来感知世界。例如，无人驾驶汽车使用视频、雷达与激光雷达来观察周围的世界。随着汽车不断地收集数据，它们会建立起一个3D观察世界，在这个世界，汽车可以知道自己在哪里，其他物体（如树木、行人和其他车辆）在哪里，以及它应该去哪里！\n",
    "\n",
    "在这一部分中，为了简单起见，我们将首先使用1D世界然后再用2D世界表示，因为通常情况下，你需要用2D来解决某个问题。\n",
    "* 你需要做一系列的练习，从中增加对机器人本地化的理解。\n",
    "* 尽最大努力去做这些练习题。如果遇到了问题或想确认答案，可以查阅解决方案。\n",
    "\n",
    "*你可以在下列两个地方找到解决方案：1.在左上角的`jupyter`目录中的一个notebook中；或者，2.在练习题之后出现的视频中。* \n",
    "\n",
    "<img src=\"files/images/lidar.png\" width=\"50%\" height=\"50%\">\n",
    "\n",
    "\n",
    "这些环境的网格表示称为 **离散** 表示。离散只意味着机器人可到之处（例如在一个网格单元中）的有限数量。这是因为机器人与类似无人驾驶汽车这样的自动驾驶汽车都需要使用地图来确定它们的位置，并且地图可以将它们划分为多个网格和部分。\n",
    "\n",
    "在定位在机器人周围移动的物体时，你会看到**连续的**概率分布。连续意味着这些物体可以在机器人周围的任何地方，并且它们的运动是平滑的。\n",
    "\n",
    "### 练习库\n",
    "\n",
    "这个本地化课程中的大多数notebook都可以在workspace中找到。\n",
    "\n",
    "下面，让我们从1D示例开始吧。\n",
    "\n",
    "### 机器人世界：1-D\n",
    "\n",
    "首先，假设你有一个生活在1-D世界中的机器人。你可以将这个1-D世界看做是一个单车道道路。\n",
    "\n",
    "<img src=\"images/road_1.png\" width=\"50%\" height=\"50%\">\n",
    "\n",
    "我们可以将这条道路视为一个阵列，并将其分解为很多网格单元，便于机器人理解。在这种情况下，这条道路是一个一维网格，有5个不同的空间。机器人只能向前或向后移动。如果机器人从网格上掉下来，它将环绕回到另一侧（这被称为循环世界）。\n",
    "\n",
    "<img src=\"images/numbered_grid.png\" width=\"50%\" height=\"50%\">\n",
    "\n",
    "### 均匀分布\n",
    "\n",
    "机器人有一张地图，因此它知道这个1D世界中只有5个空间。但是，它没有感觉到任何东西或没有发生移动。那么，对于这个5个单元格的长度（5个值的列表），机器人在这些位置中的任何一个位置的概率分布`p`是多少？\n",
    "\n",
    "由于机器人最初不知道它在哪里，所以在任何空间中的概率是相同的！这就是概率分布，因此所有这些概率的总和应该等于1，所以`1/5 spaces = 0.2`。所有概率相同（并且具有最大不确定性）的分布称为**均匀分布**。"
   ]
  },
  {
   "cell_type": "code",
   "execution_count": null,
   "metadata": {},
   "outputs": [],
   "source": [
    "# importing resources\n",
    "import matplotlib.pyplot as plt\n",
    "import numpy as np"
   ]
  },
  {
   "cell_type": "code",
   "execution_count": null,
   "metadata": {},
   "outputs": [],
   "source": [
    "# uniform distribution for 5 grid cells\n",
    "# we use \"p\" to represent probability\n",
    "p = [0.2, 0.2, 0.2, 0.2, 0.2]\n",
    "print(p)\n"
   ]
  },
  {
   "cell_type": "markdown",
   "metadata": {},
   "source": [
    "我还将包含一个辅助函数，用于可视化此概率分布。下面的函数`display_map`将会输出一个条形图，用于显示机器人在每个网格空间中的概率。对于概率范围，y轴的范围为0到1。在均匀分布中，这看起来像一条扁平线。如果你想将它们分开，可以选择每个条的宽度<= 1。"
   ]
  },
  {
   "cell_type": "code",
   "execution_count": null,
   "metadata": {},
   "outputs": [],
   "source": [
    "def display_map(grid, bar_width=1):\n",
    "    if(len(grid) > 0):\n",
    "        x_labels = range(len(grid))\n",
    "        plt.bar(x_labels, height=grid, width=bar_width, color='b')\n",
    "        plt.xlabel('Grid Cell')\n",
    "        plt.ylabel('Probability')\n",
    "        plt.ylim(0, 1) # range of 0-1 for probability values \n",
    "        plt.title('Probability of the robot being at each cell in the grid')\n",
    "        plt.xticks(np.arange(min(x_labels), max(x_labels)+1, 1))\n",
    "        plt.show()\n",
    "    else:\n",
    "        print('Grid is empty')\n",
    "\n",
    "# call function on grid, p, from before\n",
    "display_map(p)"
   ]
  },
  {
   "cell_type": "markdown",
   "metadata": {},
   "source": [
    "现在，如果这个1D世界是8个网格单元而不是5个，情况会怎样呢？\n",
    "\n",
    "### 练习：编写一个函数，它需要输入机器人世界中的空间数（在本例中为8），并返回机器人在每个空间中的初始概率分布`p`。 \n",
    "\n",
    "此函数应将概率存储在列表中。所以在这个例子中，会有一个包含8个概率的列表。"
   ]
  },
  {
   "cell_type": "code",
   "execution_count": null,
   "metadata": {},
   "outputs": [],
   "source": [
    "# ex. initialize_robot(5) = [0.2, 0.2, 0.2, 0.2, 0.2]\n",
    "def initialize_robot(grid_length):\n",
    "    ''' Takes in a grid length and returns \n",
    "       a uniform distribution of location probabilities'''\n",
    "    p = []\n",
    "    return p\n"
   ]
  },
  {
   "cell_type": "code",
   "execution_count": null,
   "metadata": {},
   "outputs": [],
   "source": [
    "p = initialize_robot(8)\n",
    "print(p)\n",
    "display_map(p)"
   ]
  },
  {
   "cell_type": "markdown",
   "metadata": {},
   "source": [
    "现在，你已经了解了机器人最初是如何看待简单的一维世界。接下来，让我们通过使它四处移动并感知它的环境来了解它是如何定位自己的！"
   ]
  }
 ],
 "metadata": {
  "kernelspec": {
   "display_name": "Python 3",
   "language": "python",
   "name": "python3"
  },
  "language_info": {
   "codemirror_mode": {
    "name": "ipython",
    "version": 3
   },
   "file_extension": ".py",
   "mimetype": "text/x-python",
   "name": "python",
   "nbconvert_exporter": "python",
   "pygments_lexer": "ipython3",
   "version": "3.6.3"
  }
 },
 "nbformat": 4,
 "nbformat_minor": 2
}
